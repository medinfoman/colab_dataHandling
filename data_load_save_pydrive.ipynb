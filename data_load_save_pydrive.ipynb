{
  "nbformat": 4,
  "nbformat_minor": 0,
  "metadata": {
    "colab": {
      "name": "data_load_save_pydrive.ipynb",
      "version": "0.3.2",
      "views": {},
      "default_view": {},
      "provenance": [],
      "collapsed_sections": []
    },
    "kernelspec": {
      "display_name": "Python [conda env:tensorflow_py35]",
      "language": "python",
      "name": "conda-env-tensorflow_py35-py"
    }
  },
  "cells": [
    {
      "metadata": {
        "id": "lrc_t9Q5yuzY",
        "colab_type": "text"
      },
      "cell_type": "markdown",
      "source": [
        "# How to load(export) data from(to) Google drive   "
      ]
    },
    {
      "metadata": {
        "id": "HeyYQQXbaDZi",
        "colab_type": "text"
      },
      "cell_type": "markdown",
      "source": [
        "# Packages"
      ]
    },
    {
      "metadata": {
        "id": "vGw1oPR0aDZk",
        "colab_type": "code",
        "colab": {
          "autoexec": {
            "startup": false,
            "wait_interval": 0
          }
        }
      },
      "cell_type": "code",
      "source": [
        "from pandas import DataFrame as df\n",
        "import numpy as np\n",
        "\n",
        "!pip install -U -q PyDrive"
      ],
      "execution_count": 0,
      "outputs": []
    },
    {
      "metadata": {
        "id": "upkC8wY4RKLH",
        "colab_type": "text"
      },
      "cell_type": "markdown",
      "source": [
        "# Data load"
      ]
    },
    {
      "metadata": {
        "id": "xETRQEjkQEeo",
        "colab_type": "text"
      },
      "cell_type": "markdown",
      "source": [
        "## 1. Load \"Text\" File"
      ]
    },
    {
      "metadata": {
        "id": "6pJfm3o1lxe0",
        "colab_type": "code",
        "colab": {
          "autoexec": {
            "startup": false,
            "wait_interval": 0
          }
        }
      },
      "cell_type": "code",
      "source": [
        "from pydrive.auth import GoogleAuth\n",
        "from pydrive.drive import GoogleDrive\n",
        "from google.colab import auth\n",
        "from oauth2client.client import GoogleCredentials\n",
        "\n",
        "# 1. Authenticate and create the PyDrive client.\n",
        "auth.authenticate_user()\n",
        "gauth = GoogleAuth()\n",
        "gauth.credentials = GoogleCredentials.get_application_default()\n",
        "drive = GoogleDrive(gauth)"
      ],
      "execution_count": 0,
      "outputs": []
    },
    {
      "metadata": {
        "id": "UnJpMUIZyzFi",
        "colab_type": "code",
        "colab": {
          "autoexec": {
            "startup": false,
            "wait_interval": 0
          },
          "base_uri": "https://localhost:8080/",
          "height": 53
        },
        "outputId": "a934005d-6b1f-4688-dc4c-a611cb1dbdd7",
        "executionInfo": {
          "status": "ok",
          "timestamp": 1528124857193,
          "user_tz": -540,
          "elapsed": 646,
          "user": {
            "displayName": "김경모",
            "photoUrl": "//lh3.googleusercontent.com/-hs2nTIW1ihk/AAAAAAAAAAI/AAAAAAAAA20/ieDz40nT9ik/s50-c-k-no/photo.jpg",
            "userId": "106389271575174406330"
          }
        }
      },
      "cell_type": "code",
      "source": [
        "# 구글드라이브에 데이터가 들어있는 폴더주소:https://drive.google.com/drive/folders/폴더주소\n",
        "# 폴더주소의 고유번호로 아래 코드를 바꿔주면 파일 리스트를 획득할 수 있음\n",
        "file_list = drive.ListFile({'q': \"'1xP6IN71nbA0lvqnK-GyovadsAEfV4ham' in parents and trashed=false\"}).GetList()\n",
        "for file1 in file_list:\n",
        "  print('title: %s, id: %s' % (file1['title'], file1['id']))"
      ],
      "execution_count": 17,
      "outputs": [
        {
          "output_type": "stream",
          "text": [
            "title: example.xlsx, id: 1UDcq-d5jdE8Vlv2dKtl6nZi8YD--ZOWG\n",
            "title: example.txt, id: 1kB6uJShUiw48YlKfaCaMW4ZE4zvHXT1M\n"
          ],
          "name": "stdout"
        }
      ]
    },
    {
      "metadata": {
        "id": "JceysTk2y0C6",
        "colab_type": "code",
        "colab": {
          "autoexec": {
            "startup": false,
            "wait_interval": 0
          }
        }
      },
      "cell_type": "code",
      "source": [
        "from google.colab import auth\n",
        "from googleapiclient.discovery import build\n",
        "import io , requests, os\n",
        "import sys\n",
        "auth.authenticate_user()\n",
        "from googleapiclient.discovery import build\n",
        "drive_service = build('drive', 'v3')"
      ],
      "execution_count": 0,
      "outputs": []
    },
    {
      "metadata": {
        "id": "etVc3ispy1ew",
        "colab_type": "code",
        "colab": {
          "autoexec": {
            "startup": false,
            "wait_interval": 0
          }
        }
      },
      "cell_type": "code",
      "source": [
        "# function for loading txt file\n",
        "# ref: https://medium.com/@likho2manish/dev-steps-to-google-colab-5c72779c0ae9\n",
        "def get_file_buffer(file_id, verbose=0):\n",
        "  from googleapiclient.http import MediaIoBaseDownload\n",
        "  request = drive_service.files().get_media(fileId=file_id)\n",
        "  downloaded = io.BytesIO()\n",
        "  downloader = MediaIoBaseDownload(downloaded, request)\n",
        "  done = False\n",
        "  while done is False:\n",
        "    # _ is a placeholder for a progress object that we ignore.\n",
        "    # (Our file is small, so we skip reporting progress.)\n",
        "    progress, done = downloader.next_chunk()\n",
        "    if verbose:\n",
        "      sys.stdout.flush()\n",
        "      sys.stdout.write('\\r')\n",
        "      percentage_done = progress.resumable_progress * 100/progress.total_size\n",
        "      sys.stdout.write(\"[%-100s] %d%%\" % ('='*int(percentage_done), int(percentage_done)))\n",
        "  downloaded.seek(0)\n",
        "  return downloaded"
      ],
      "execution_count": 0,
      "outputs": []
    },
    {
      "metadata": {
        "id": "As3b02MXy3VZ",
        "colab_type": "code",
        "colab": {
          "autoexec": {
            "startup": false,
            "wait_interval": 0
          },
          "base_uri": "https://localhost:8080/",
          "height": 199
        },
        "outputId": "8fd99a95-2bca-4896-890d-1a5c2be2ebb2",
        "executionInfo": {
          "status": "ok",
          "timestamp": 1528124672121,
          "user_tz": -540,
          "elapsed": 672,
          "user": {
            "displayName": "김경모",
            "photoUrl": "//lh3.googleusercontent.com/-hs2nTIW1ihk/AAAAAAAAAAI/AAAAAAAAA20/ieDz40nT9ik/s50-c-k-no/photo.jpg",
            "userId": "106389271575174406330"
          }
        }
      },
      "cell_type": "code",
      "source": [
        "# write down the file id you want to load from the file list you listed\n",
        "down = get_file_buffer('1kB6uJShUiw48YlKfaCaMW4ZE4zvHXT1M')\n",
        "\n",
        "# Load text content from the file\n",
        "bookContent = down.getvalue().decode(\"utf-8\")\n",
        "print(bookContent)"
      ],
      "execution_count": 10,
      "outputs": [
        {
          "output_type": "stream",
          "text": [
            "Lorem ipsum dolor sit amet, consectetur adipiscing elit. Quisque at euismod urna, vel luctus lorem. Aliquam sem turpis, interdum blandit dui nec, consequat commodo eros. Donec hendrerit ex sed pellentesque mollis. Class aptent taciti sociosqu ad litora torquent per conubia nostra, per inceptos himenaeos. Integer orci ligula, placerat facilisis pretium quis, volutpat a diam. Suspendisse et nisi hendrerit nisi hendrerit interdum. Mauris mollis egestas nisi, et sagittis ligula ullamcorper vitae. Nam a convallis risus. Orci varius natoque penatibus et magnis dis parturient montes, nascetur ridiculus mus. Quisque ullamcorper cursus tellus ac pulvinar. Curabitur eget libero ultricies, vehicula nunc ut, vehicula dui. Mauris at nulla non sapien eleifend imperdiet. Suspendisse eleifend a nisi sit amet porttitor.\n",
            "\n",
            "Morbi dignissim sem nec sapien pellentesque, ac aliquet sem posuere. Nulla laoreet pretium odio in porta. Quisque pulvinar arcu scelerisque ipsum pretium, eget euismod augue vulputate. Aliquam ac semper tellus. Sed nec fermentum ipsum. Vestibulum blandit dictum tellus in vehicula. Proin iaculis lobortis dui, in suscipit sapien rutrum eu. Vestibulum velit quam, luctus in dictum sit amet, semper dictum ipsum. Cras consectetur velit lectus, sit amet aliquam leo sagittis ultrices. Donec sagittis eleifend purus, vitae blandit mi semper at. Duis bibendum luctus leo eu dapibus. Sed efficitur, eros eget elementum pulvinar, ante sem tincidunt nunc, non pellentesque justo ipsum nec orci. Pellentesque vitae mauris porttitor turpis pharetra maximus. Ut fermentum, nisl non viverra placerat, neque tortor commodo quam, eget cursus sem mi pellentesque urna.\n",
            "\n",
            "Etiam quis erat dictum, imperdiet purus ut, sollicitudin purus. Duis ac eleifend velit. Etiam sed metus sit amet felis laoreet maximus. Phasellus dictum quis ex sed ornare. Vivamus pulvinar posuere ligula, rhoncus volutpat purus elementum vel. Curabitur consequat erat in ornare egestas. Maecenas viverra sem quis est lacinia vestibulum id in nulla. Sed eu placerat lorem, ac scelerisque dui. Class aptent taciti sociosqu ad litora torquent per conubia nostra, per inceptos himenaeos. Phasellus in consectetur lacus, sed maximus arcu. Proin nec sem pretium, pellentesque augue non, varius dui. Mauris a dui elit. Maecenas quis ornare justo, nec faucibus leo. Suspendisse et lacus quis felis fringilla sollicitudin at vestibulum mi.\n",
            "\n",
            "Nunc condimentum condimentum mauris at maximus. Proin varius ultrices nisl, sit amet scelerisque libero vulputate imperdiet. Integer eu hendrerit libero, eu vulputate ex. Quisque id ultricies sem. Quisque ornare ex eu metus lacinia placerat. Ut fermentum, mi in scelerisque ornare, lectus leo interdum diam, non hendrerit sem urna congue ex. Quisque feugiat in ante vulputate dignissim. Lorem ipsum dolor sit amet, consectetur adipiscing elit. Integer nibh leo, fringilla et elit id, sodales efficitur mauris. Donec eu magna id leo consectetur elementum. Integer posuere ligula ut nibh pharetra, in eleifend ante consequat. Maecenas metus velit, luctus volutpat leo et, sagittis blandit nunc. Phasellus posuere lorem non consequat pharetra.\n",
            "\n",
            "Aliquam quis aliquam enim. Praesent vestibulum tortor sed scelerisque pharetra. Duis imperdiet auctor velit, non dignissim leo euismod id. Praesent bibendum, sem non varius imperdiet, ex ligula accumsan risus, in placerat ex lacus id orci. Pellentesque dictum, sem vel efficitur vehicula, enim est bibendum neque, nec pellentesque lacus felis et est. Aliquam laoreet velit sem, et faucibus neque interdum sed. Aenean scelerisque, justo lobortis pulvinar commodo, augue mi pharetra est, sed finibus dui tortor accumsan velit. Lorem ipsum dolor sit amet, consectetur adipiscing elit. Nam dapibus semper ante a aliquet. Sed ac molestie eros. Mauris volutpat nibh imperdiet pretium volutpat. Sed imperdiet varius nunc ut pretium. Integer imperdiet in augue in dapibus. Sed eget enim dolor. Duis commodo eget nunc in accumsan. Mauris quis diam ex.\n"
          ],
          "name": "stdout"
        }
      ]
    },
    {
      "metadata": {
        "id": "7yTmXhYDy6Ym",
        "colab_type": "code",
        "colab": {
          "autoexec": {
            "startup": false,
            "wait_interval": 0
          },
          "base_uri": "https://localhost:8080/",
          "height": 204
        },
        "outputId": "530fe90f-1573-4147-f2a5-e22102f0ac65",
        "executionInfo": {
          "status": "ok",
          "timestamp": 1528125588730,
          "user_tz": -540,
          "elapsed": 867,
          "user": {
            "displayName": "김경모",
            "photoUrl": "//lh3.googleusercontent.com/-hs2nTIW1ihk/AAAAAAAAAAI/AAAAAAAAA20/ieDz40nT9ik/s50-c-k-no/photo.jpg",
            "userId": "106389271575174406330"
          }
        }
      },
      "cell_type": "code",
      "source": [
        "# file to pandas dataframe\n",
        "book_raw_array = bookContent.split(\"\\n\")\n",
        "book_raw_array = df(book_raw_array)\n",
        "\n",
        "\n",
        "# data preprocessing\n",
        "# change data frame colum names\n",
        "book_raw_array = book_raw_array.rename(index=str, columns={0: \"contents\"})\n",
        "\n",
        "# remove empty cells\n",
        "book_raw_array['contents'].replace('', np.nan, inplace=True)\n",
        "book_raw_array = book_raw_array.dropna()\n",
        "\n",
        "# rearrange index\n",
        "book_raw_array = book_raw_array.reset_index()\n",
        "book_raw_array = book_raw_array.drop('index', 1)\n",
        "\n",
        "book_raw_array"
      ],
      "execution_count": 35,
      "outputs": [
        {
          "output_type": "execute_result",
          "data": {
            "text/html": [
              "<div>\n",
              "<style scoped>\n",
              "    .dataframe tbody tr th:only-of-type {\n",
              "        vertical-align: middle;\n",
              "    }\n",
              "\n",
              "    .dataframe tbody tr th {\n",
              "        vertical-align: top;\n",
              "    }\n",
              "\n",
              "    .dataframe thead th {\n",
              "        text-align: right;\n",
              "    }\n",
              "</style>\n",
              "<table border=\"1\" class=\"dataframe\">\n",
              "  <thead>\n",
              "    <tr style=\"text-align: right;\">\n",
              "      <th></th>\n",
              "      <th>contents</th>\n",
              "    </tr>\n",
              "  </thead>\n",
              "  <tbody>\n",
              "    <tr>\n",
              "      <th>0</th>\n",
              "      <td>Lorem ipsum dolor sit amet, consectetur adipis...</td>\n",
              "    </tr>\n",
              "    <tr>\n",
              "      <th>1</th>\n",
              "      <td>Morbi dignissim sem nec sapien pellentesque, a...</td>\n",
              "    </tr>\n",
              "    <tr>\n",
              "      <th>2</th>\n",
              "      <td>Etiam quis erat dictum, imperdiet purus ut, so...</td>\n",
              "    </tr>\n",
              "    <tr>\n",
              "      <th>3</th>\n",
              "      <td>Nunc condimentum condimentum mauris at maximus...</td>\n",
              "    </tr>\n",
              "    <tr>\n",
              "      <th>4</th>\n",
              "      <td>Aliquam quis aliquam enim. Praesent vestibulum...</td>\n",
              "    </tr>\n",
              "  </tbody>\n",
              "</table>\n",
              "</div>"
            ],
            "text/plain": [
              "                                            contents\n",
              "0  Lorem ipsum dolor sit amet, consectetur adipis...\n",
              "1  Morbi dignissim sem nec sapien pellentesque, a...\n",
              "2  Etiam quis erat dictum, imperdiet purus ut, so...\n",
              "3  Nunc condimentum condimentum mauris at maximus...\n",
              "4  Aliquam quis aliquam enim. Praesent vestibulum..."
            ]
          },
          "metadata": {
            "tags": []
          },
          "execution_count": 35
        }
      ]
    },
    {
      "metadata": {
        "id": "DruaPoEeQIeK",
        "colab_type": "text"
      },
      "cell_type": "markdown",
      "source": [
        "## 2. Load \"xlsx\" file"
      ]
    },
    {
      "metadata": {
        "id": "5jyiQ34pQJ8O",
        "colab_type": "code",
        "colab": {
          "autoexec": {
            "startup": false,
            "wait_interval": 0
          },
          "base_uri": "https://localhost:8080/",
          "height": 71
        },
        "outputId": "66338c96-e1de-44f9-9c64-47dfd775e2bc",
        "executionInfo": {
          "status": "ok",
          "timestamp": 1528124876749,
          "user_tz": -540,
          "elapsed": 1128,
          "user": {
            "displayName": "김경모",
            "photoUrl": "//lh3.googleusercontent.com/-hs2nTIW1ihk/AAAAAAAAAAI/AAAAAAAAA20/ieDz40nT9ik/s50-c-k-no/photo.jpg",
            "userId": "106389271575174406330"
          }
        }
      },
      "cell_type": "code",
      "source": [
        "# Write down the file name you want to use\n",
        "file_id = '1UDcq-d5jdE8Vlv2dKtl6nZi8YD--ZOWG'\n",
        "downloaded = drive.CreateFile({'id': file_id})\n",
        "print('title: ', downloaded['title'], ', mimeType: ', downloaded['mimeType'])\n",
        "\n",
        "\n",
        "# Download the file to a local disk as downloaded['title'].\n",
        "mimetypes = {\n",
        "    # Drive Document files as PDF\n",
        "    'application/vnd.google-apps.document': 'application/pdf',\n",
        "    \n",
        "    # Drive Sheets files as MS Excel files.\n",
        "    'application/vnd.google-apps.spreadsheet': 'application/vnd.openxmlformats-officedocument.spreadsheetml.sheet'\n",
        "    \n",
        "    # see https://developers.google.com/drive/v3/web/mime-types\n",
        "}\n",
        "\n",
        "\n",
        "# You must check the type before implmenting download\n",
        "# Download should be done according to the MimeType you set.\n",
        "# So, you should declare the file's mimetype.\n",
        "download_mimetype = None\n",
        "if downloaded['mimeType'] in mimetypes:\n",
        "  print('the file has mimeType')\n",
        "  download_mimetype = mimetypes[ downloaded['mimeType']]\n",
        "  downloaded.GetContentFile(downloaded['title'], mimetype=download_mimetype)\n",
        "  \n",
        "else:\n",
        "  print('the file does not have mimeType')\n",
        "  downloaded.GetContentFile(downloaded['title'])\n",
        "  \n",
        "print(\"The file has been downloaded\")"
      ],
      "execution_count": 18,
      "outputs": [
        {
          "output_type": "stream",
          "text": [
            "('title: ', u'example.xlsx', ', mimeType: ', u'application/vnd.openxmlformats-officedocument.spreadsheetml.sheet')\n",
            "the file does not have mimeType\n",
            "The file has been downloaded\n"
          ],
          "name": "stdout"
        }
      ]
    },
    {
      "metadata": {
        "id": "G9OoxmIRQN9o",
        "colab_type": "code",
        "colab": {
          "autoexec": {
            "startup": false,
            "wait_interval": 0
          },
          "base_uri": "https://localhost:8080/",
          "height": 235
        },
        "outputId": "e2bd50c1-ef8b-4434-9995-c23af779a364",
        "executionInfo": {
          "status": "ok",
          "timestamp": 1528124879834,
          "user_tz": -540,
          "elapsed": 2472,
          "user": {
            "displayName": "김경모",
            "photoUrl": "//lh3.googleusercontent.com/-hs2nTIW1ihk/AAAAAAAAAAI/AAAAAAAAA20/ieDz40nT9ik/s50-c-k-no/photo.jpg",
            "userId": "106389271575174406330"
          }
        }
      },
      "cell_type": "code",
      "source": [
        "!pip install -q xlrd\n",
        "\n",
        "import pandas as pd\n",
        "book_raw_array_xlsx = pd.read_excel(downloaded['title'])\n",
        "book_raw_array_xlsx"
      ],
      "execution_count": 19,
      "outputs": [
        {
          "output_type": "execute_result",
          "data": {
            "text/html": [
              "<div>\n",
              "<style scoped>\n",
              "    .dataframe tbody tr th:only-of-type {\n",
              "        vertical-align: middle;\n",
              "    }\n",
              "\n",
              "    .dataframe tbody tr th {\n",
              "        vertical-align: top;\n",
              "    }\n",
              "\n",
              "    .dataframe thead th {\n",
              "        text-align: right;\n",
              "    }\n",
              "</style>\n",
              "<table border=\"1\" class=\"dataframe\">\n",
              "  <thead>\n",
              "    <tr style=\"text-align: right;\">\n",
              "      <th></th>\n",
              "      <th>Groot said</th>\n",
              "    </tr>\n",
              "  </thead>\n",
              "  <tbody>\n",
              "    <tr>\n",
              "      <th>0</th>\n",
              "      <td>I am Groot!</td>\n",
              "    </tr>\n",
              "    <tr>\n",
              "      <th>1</th>\n",
              "      <td>I am Groot?</td>\n",
              "    </tr>\n",
              "    <tr>\n",
              "      <th>2</th>\n",
              "      <td>I am Groot.</td>\n",
              "    </tr>\n",
              "    <tr>\n",
              "      <th>3</th>\n",
              "      <td>I am Groot…</td>\n",
              "    </tr>\n",
              "    <tr>\n",
              "      <th>4</th>\n",
              "      <td>I am Grooooot</td>\n",
              "    </tr>\n",
              "    <tr>\n",
              "      <th>5</th>\n",
              "      <td>I am Great!</td>\n",
              "    </tr>\n",
              "  </tbody>\n",
              "</table>\n",
              "</div>"
            ],
            "text/plain": [
              "      Groot said\n",
              "0    I am Groot!\n",
              "1    I am Groot?\n",
              "2    I am Groot.\n",
              "3    I am Groot…\n",
              "4  I am Grooooot\n",
              "5    I am Great!"
            ]
          },
          "metadata": {
            "tags": []
          },
          "execution_count": 19
        }
      ]
    },
    {
      "metadata": {
        "id": "qR2VrWwNaDZq",
        "colab_type": "text"
      },
      "cell_type": "markdown",
      "source": [
        "# Save data"
      ]
    },
    {
      "metadata": {
        "id": "raEOLFSc4iAb",
        "colab_type": "text"
      },
      "cell_type": "markdown",
      "source": [
        "## Export Data Frame to \"xlsx(or csv)\" file"
      ]
    },
    {
      "metadata": {
        "id": "vA6YS8EEaDaJ",
        "colab_type": "code",
        "colab": {
          "autoexec": {
            "startup": false,
            "wait_interval": 0
          }
        }
      },
      "cell_type": "code",
      "source": [
        "# MimeTypes\n",
        "# https://github.com/google/google-drive-proxy/blob/master/DriveProxy/API/MimeType.cs\n",
        "# https://stackoverflow.com/questions/11894772/google-drive-mime-types-listing?utm_medium=organic&utm_source=google_rich_qa&utm_campaign=google_rich_qa\n",
        "mime_types= {\n",
        "    \"xls\":'application/vnd.ms-excel',\n",
        "    \"xlsx\":'application/vnd.openxmlformats-officedocument.spreadsheetml.sheet',\n",
        "    \"xml\":'text/xml',\n",
        "    \"ods\":'application/vnd.oasis.opendocument.spreadsheet',\n",
        "    \"csv\":'text/plain',\n",
        "    \"tmpl\":'text/plain',\n",
        "    \"pdf\": 'application/pdf',\n",
        "    \"php\":'application/x-httpd-php',\n",
        "    \"jpg\":'image/jpeg',\n",
        "    \"png\":'image/png',\n",
        "    \"gif\":'image/gif',\n",
        "    \"bmp\":'image/bmp',\n",
        "    \"txt\":'text/plain',\n",
        "    \"doc\":'application/msword',\n",
        "    \"js\":'text/js',\n",
        "    \"swf\":'application/x-shockwave-flash',\n",
        "    \"mp3\":'audio/mpeg',\n",
        "    \"zip\":'application/zip',\n",
        "    \"rar\":'application/rar',\n",
        "    \"tar\":'application/tar',\n",
        "    \"arj\":'application/arj',\n",
        "    \"cab\":'application/cab',\n",
        "    \"html\":'text/html',\n",
        "    \"htm\":'text/html',\n",
        "    \"default\":'application/octet-stream',\n",
        "    \"folder\":'application/vnd.google-apps.folder'\n",
        "}"
      ],
      "execution_count": 0,
      "outputs": []
    },
    {
      "metadata": {
        "id": "bUWNw3XOyx6i",
        "colab_type": "code",
        "colab": {
          "autoexec": {
            "startup": false,
            "wait_interval": 0
          }
        }
      },
      "cell_type": "code",
      "source": [
        "# Export file.\n",
        "# You should have Parent folder id if you want to organize the resources systematically\n",
        "filename = \"exported\"\n",
        "f = drive.CreateFile({'title': filename, 'mimeType': mime_types['xlsx'], \"parents\": [{\"id\": '1xP6IN71nbA0lvqnK-GyovadsAEfV4ham'}]})\n",
        "\n",
        "f.SetContentString(book_raw_array.to_csv())\n",
        "\n",
        "f.Upload({'convert': True})"
      ],
      "execution_count": 0,
      "outputs": []
    }
  ]
}